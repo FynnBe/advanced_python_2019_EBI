{
 "cells": [
  {
   "cell_type": "markdown",
   "metadata": {
    "slideshow": {
     "slide_type": "slide"
    }
   },
   "source": [
    "# Advanced Python Course \n",
    "## PreDoc Course EBI 2019\n",
    "### by Christian Fufezan \n",
    "\n",
    "christian@fufezan.net\n",
    "\n",
    "https://fufezan.net\n",
    "\n",
    "\n",
    "<img src=\"https://octodex.github.com/images/mummytocat.gif\" width=\"200\" height=\"200\" style=\"float: right;\"/>"
   ]
  },
  {
   "cell_type": "markdown",
   "metadata": {
    "slideshow": {
     "slide_type": "slide"
    }
   },
   "source": [
    "# Useful modules that are part of standard Python "
   ]
  },
  {
   "cell_type": "markdown",
   "metadata": {
    "slideshow": {
     "slide_type": "slide"
    }
   },
   "source": [
    "# Pretty print"
   ]
  },
  {
   "cell_type": "code",
   "execution_count": 4,
   "metadata": {},
   "outputs": [],
   "source": [
    "from pprint import pprint as pprint"
   ]
  },
  {
   "cell_type": "code",
   "execution_count": 31,
   "metadata": {},
   "outputs": [],
   "source": [
    "room_quality = {city : {room_type : {measurement :  [x for x in np.random.normal(\n",
    "    loc=np.random.random(), scale=1, size=3)] for measurement in ['air', 'light', 'smell']}\n",
    "        for room_type in ['Kitchen', 'Bedroom', 'Toilet'] if city + room_type != \"HeidelbergBedroom\"\n",
    "    } for city in ['Heidelberg', 'Paris', 'New York']}\n"
   ]
  },
  {
   "cell_type": "markdown",
   "metadata": {},
   "source": [
    "\n",
    "<img src=\"./imgs/sure_thing.jpg\" width=\"400\" height=\"400\" style=\"float: right;\"/>"
   ]
  },
  {
   "cell_type": "code",
   "execution_count": 30,
   "metadata": {
    "slideshow": {
     "slide_type": "slide"
    }
   },
   "outputs": [],
   "source": [
    "import numpy as np\n",
    "room_quality = {\n",
    "    city : {\n",
    "        room_type : {\n",
    "            measurement :  [x for x in np.random.normal(loc=np.random.random(), scale=1, size=3)]\n",
    "            for measurement in ['air', 'light', 'smell'] \n",
    "        }\n",
    "        for room_type in ['Kitchen', 'Bedroom', 'Toilet'] if city + room_type != \"HeidelbergBedroom\"\n",
    "    }\n",
    "    for city in ['Heidelberg', 'Paris', 'New York']\n",
    "}\n"
   ]
  },
  {
   "cell_type": "code",
   "execution_count": null,
   "metadata": {},
   "outputs": [],
   "source": [
    "room_quality"
   ]
  },
  {
   "cell_type": "code",
   "execution_count": null,
   "metadata": {
    "scrolled": false,
    "slideshow": {
     "slide_type": "subslide"
    }
   },
   "outputs": [],
   "source": [
    "from pprint import pprint as pprint\n",
    "pprint(room_quality)"
   ]
  },
  {
   "cell_type": "markdown",
   "metadata": {
    "slideshow": {
     "slide_type": "slide"
    }
   },
   "source": [
    "# The csv module\n",
    "\n",
    "There are several ways to interact with files that contain data in a \"comma separated value\" format.\n",
    "\n",
    "We cover the [basic csv module](https://docs.python.org/3/library/csv.html), as it is sometimes really helpful to retain only a fraction of the information of a csv to avoid memory overflow. If you use pandas to read you xGB csv file, then yes everything is put into a data frame to start with just to have df.drop(columns[ ... ]) applied."
   ]
  },
  {
   "cell_type": "code",
   "execution_count": null,
   "metadata": {},
   "outputs": [],
   "source": [
    "import csv\n",
    "\n",
    "with open(\"../data/amino_acid_properties.csv\") as aap:\n",
    "    aap_reader = csv.DictReader(aap, delimiter=\",\") \n",
    "    for line_dict in aap_reader:\n",
    "        print(line_dict)\n",
    "        break"
   ]
  },
  {
   "cell_type": "markdown",
   "metadata": {},
   "source": [
    "We can also use the csv module to write csvs, or tab separated value files if we change the delimiter to \"\\t\""
   ]
  },
  {
   "cell_type": "code",
   "execution_count": null,
   "metadata": {
    "slideshow": {
     "slide_type": "slide"
    }
   },
   "outputs": [],
   "source": [
    "with open(\"../data/test.csv\", \"w\") as output:\n",
    "    aap_writer = csv.DictWriter(output, fieldnames=[\"Name\", \"3-letter code\"])\n",
    "    aap_writer.writeheader()\n",
    "    aap_writer.writerow({\"Name\": \"Alanine\", \"3-letter code\": \"Ala\", \"1-letter code\": \"A\"})\n",
    "\n",
    "# What do you expect to happen ?"
   ]
  },
  {
   "cell_type": "code",
   "execution_count": null,
   "metadata": {},
   "outputs": [],
   "source": [
    "!cat ../data/test.csv"
   ]
  },
  {
   "cell_type": "markdown",
   "metadata": {},
   "source": [
    "How to fix it ?"
   ]
  },
  {
   "cell_type": "code",
   "execution_count": null,
   "metadata": {
    "slideshow": {
     "slide_type": "subslide"
    }
   },
   "outputs": [],
   "source": [
    "# fix it\n",
    "with open(\"c\", \"w\") as output:\n",
    "    aap_writer = csv.DictWriter(output, fieldnames=[\"Name\", \"3-letter code\"], extrasaction='ignore')\n",
    "    aap_writer.writeheader()\n",
    "    aap_writer.writerow({\"Name\": \"Alanine\", \"3-letter code\": \"Ala\", \"1-letter code\": \"A\"})"
   ]
  },
  {
   "cell_type": "markdown",
   "metadata": {
    "slideshow": {
     "slide_type": "slide"
    }
   },
   "source": [
    "# Collections - high performance containers ... sorta"
   ]
  },
  {
   "cell_type": "markdown",
   "metadata": {
    "slideshow": {
     "slide_type": "-"
    }
   },
   "source": [
    "# [collections.Counter](https://docs.python.org/3.7/library/collections.html#counter-objects)\n",
    "A counter tool is provided to support convenient and rapid tallies. For example"
   ]
  },
  {
   "cell_type": "code",
   "execution_count": null,
   "metadata": {},
   "outputs": [],
   "source": [
    "from collections import Counter\n",
    "s = \"\"\"\n",
    "MQRLMMLLATSGACLGLLAVAAVAAAGANPAQRDTHSLLPTHRRQKRDWIWNQMHIDEEK\n",
    "NTSLPHHVGKIKSSVSRKNAKYLLKGEYVGKVFRVDAETGDVFAIERLDRENISEYHLTA\n",
    "VIVDKDTGENLETPSSFTIKVHDVNDNWPVFTHRLFNASVPESSAVGTSVISVTAVDADD\n",
    "PTVGDHASVMYQILKGKEYFAIDNSGRIITITKSLDREKQARYEIVVEARDAQGLRGDSG\n",
    "TATVLVTLQDINDNFPFFTQTKYTFVVPEDTRVGTSVGSLFVEDPDEPQNRMTKYSILRG\n",
    "DYQDAFTIETNPAHNEGIIKPMKPLDYEYIQQYSFIVEATDPTIDL RYMSPPAGNRAQVI\n",
    "\"\"\"\n",
    "Counter(s)"
   ]
  },
  {
   "cell_type": "code",
   "execution_count": null,
   "metadata": {
    "slideshow": {
     "slide_type": "subslide"
    }
   },
   "outputs": [],
   "source": [
    "# Counter objects can be added together\n",
    "Counter(\"AABB\") + Counter(\"BBCC\")"
   ]
  },
  {
   "cell_type": "code",
   "execution_count": null,
   "metadata": {},
   "outputs": [],
   "source": [
    "# Works with any type of object that are comparable\n",
    "Counter([(1, 1), (1, 2), (2, 1), (1, 1)])"
   ]
  },
  {
   "cell_type": "markdown",
   "metadata": {
    "slideshow": {
     "slide_type": "slide"
    }
   },
   "source": [
    "# [collections.deque](https://docs.python.org/3.7/library/collections.html#deque-objects)\n",
    "Deque \\[deck\\] or double-ended queue can be used for many tasks, e.g. building a sliding window"
   ]
  },
  {
   "cell_type": "code",
   "execution_count": null,
   "metadata": {},
   "outputs": [],
   "source": [
    "from collections import deque\n",
    "s = \"\"\"MQRLMMLLATSGACLGLLAVAAVAAAGANPAQRDTHSLLPTHRRQKRDWIWNQMHIDEEKNTSLPHHVGKIKSSVSRKNAKYLLKGEYVGKVFRVDAETGDVFAIERLDRENISEYHLTA\"\"\"\n",
    "window = deque([], maxlen=5)"
   ]
  },
  {
   "cell_type": "code",
   "execution_count": null,
   "metadata": {},
   "outputs": [],
   "source": [
    "for pos, aa in enumerate(s):\n",
    "    window.append(aa)\n",
    "    print(window)\n",
    "    if pos > 7:\n",
    "        break"
   ]
  },
  {
   "cell_type": "code",
   "execution_count": null,
   "metadata": {},
   "outputs": [],
   "source": [
    "Counter(window)"
   ]
  },
  {
   "cell_type": "markdown",
   "metadata": {
    "slideshow": {
     "slide_type": "slide"
    }
   },
   "source": [
    "# [collections.defaultdicts](https://docs.python.org/3.7/library/collections.html#defaultdict-objects)\n",
    "Defaultdicts are like dicts yet they treat missing values not with an error, thus testing if key exists is not neccessary and makes life easier :) Ofcourse, one needs to define the default value that is taken if a key is not existent. \n",
    "\n",
    "I use it a lot for counting \n",
    "```python\n",
    "counter[\"error\"] += 1\n",
    "```\n",
    "or collecting elements in lists\n",
    "```python\n",
    "sorter[\"type_A\"].append({\"name\": \"John\"})\n",
    "```"
   ]
  },
  {
   "cell_type": "code",
   "execution_count": 32,
   "metadata": {},
   "outputs": [],
   "source": [
    "from collections import defaultdict\n",
    "\n",
    "ddict_int = defaultdict(int)\n",
    "#                        ^---- default factory\n",
    "ddict_list = defaultdict(list)"
   ]
  },
  {
   "cell_type": "code",
   "execution_count": null,
   "metadata": {},
   "outputs": [],
   "source": [
    "ddict_int[10] += 10\n",
    "ddict_int"
   ]
  },
  {
   "cell_type": "code",
   "execution_count": null,
   "metadata": {},
   "outputs": [],
   "source": [
    "ddict_int[0]"
   ]
  },
  {
   "cell_type": "code",
   "execution_count": 35,
   "metadata": {},
   "outputs": [],
   "source": [
    "def default_factory_with_prefilled_dictionary():\n",
    "    return {\"__name\": \"our custom dict\", \"errors\": 0}\n",
    "ddict_custom = defaultdict(default_factory_with_prefilled_dictionary)\n"
   ]
  },
  {
   "cell_type": "code",
   "execution_count": 37,
   "metadata": {},
   "outputs": [],
   "source": [
    "ddict_custom[10] += 10"
   ]
  },
  {
   "cell_type": "code",
   "execution_count": null,
   "metadata": {},
   "outputs": [],
   "source": [
    "ddict_custom[10]['errors'] += 10"
   ]
  },
  {
   "cell_type": "code",
   "execution_count": null,
   "metadata": {},
   "outputs": [],
   "source": [
    "ddict_custom[10]"
   ]
  },
  {
   "cell_type": "markdown",
   "metadata": {
    "slideshow": {
     "slide_type": "slide"
    }
   },
   "source": [
    "# bisect module\n",
    "\n",
    "Bisect module allows to find positions in a **sorted list** into which a given element can be inserted without loosing its sorting.\n",
    "\n",
    "Essential element in binary tree searches and similar techniques."
   ]
  },
  {
   "cell_type": "code",
   "execution_count": 39,
   "metadata": {},
   "outputs": [
    {
     "data": {
      "text/plain": [
       "2"
      ]
     },
     "execution_count": 39,
     "metadata": {},
     "output_type": "execute_result"
    }
   ],
   "source": [
    "import bisect\n",
    "a = [1, 3, 6, 12, 14, 16]\n",
    "bisect.bisect(a, 4)"
   ]
  },
  {
   "cell_type": "code",
   "execution_count": 40,
   "metadata": {},
   "outputs": [
    {
     "data": {
      "text/plain": [
       "2"
      ]
     },
     "execution_count": 40,
     "metadata": {},
     "output_type": "execute_result"
    }
   ],
   "source": [
    "bisect.bisect_right(a, 3)"
   ]
  },
  {
   "cell_type": "code",
   "execution_count": 41,
   "metadata": {},
   "outputs": [
    {
     "data": {
      "text/plain": [
       "1"
      ]
     },
     "execution_count": 41,
     "metadata": {},
     "output_type": "execute_result"
    }
   ],
   "source": [
    "bisect.bisect_left(a, 3)"
   ]
  },
  {
   "cell_type": "code",
   "execution_count": 42,
   "metadata": {},
   "outputs": [
    {
     "data": {
      "text/plain": [
       "1"
      ]
     },
     "execution_count": 42,
     "metadata": {},
     "output_type": "execute_result"
    }
   ],
   "source": [
    "# also works with more complex lists, as log the elements are comparable\n",
    "a = [(1, \"First\"), (3, \"Third\"), (6, \"too late\")]\n",
    "bisect.bisect(a, (3, \"Really add some more stuff\"))"
   ]
  },
  {
   "cell_type": "markdown",
   "metadata": {},
   "source": [
    "why 1 and not 2 ?"
   ]
  },
  {
   "cell_type": "markdown",
   "metadata": {
    "slideshow": {
     "slide_type": "slide"
    }
   },
   "source": [
    "# Iteration helpers\n",
    "\n",
    "How would you code a loop that generates out of an iterable \\['A', 'B', 'C' \\]\n",
    "the following \n",
    "* AB, AC, BC\n",
    "* AA, AB, AC, BA, BB, BC, CA, CB, CC\n",
    "\n"
   ]
  },
  {
   "cell_type": "code",
   "execution_count": null,
   "metadata": {},
   "outputs": [],
   "source": [
    "a = ['A', 'B', 'C']\n",
    "for ..."
   ]
  },
  {
   "cell_type": "markdown",
   "metadata": {
    "slideshow": {
     "slide_type": "subslide"
    }
   },
   "source": [
    "# [itertools](https://docs.python.org/3.7/library/itertools.html)\n",
    "\n",
    "Python iterator helpers for efficient and **readable** looping."
   ]
  },
  {
   "cell_type": "code",
   "execution_count": null,
   "metadata": {
    "scrolled": false
   },
   "outputs": [],
   "source": [
    "from itertools import product\n",
    "\n",
    "list(product(a, repeat=2))"
   ]
  },
  {
   "cell_type": "code",
   "execution_count": null,
   "metadata": {},
   "outputs": [],
   "source": [
    "from itertools import combinations\n",
    "\n",
    "list(combinations(a, 2))"
   ]
  },
  {
   "cell_type": "code",
   "execution_count": null,
   "metadata": {},
   "outputs": [],
   "source": []
  }
 ],
 "metadata": {
  "celltoolbar": "Slideshow",
  "kernelspec": {
   "display_name": "Python 3",
   "language": "python",
   "name": "python3"
  },
  "language_info": {
   "codemirror_mode": {
    "name": "ipython",
    "version": 3
   },
   "file_extension": ".py",
   "mimetype": "text/x-python",
   "name": "python",
   "nbconvert_exporter": "python",
   "pygments_lexer": "ipython3",
   "version": "3.7.5"
  }
 },
 "nbformat": 4,
 "nbformat_minor": 2
}
