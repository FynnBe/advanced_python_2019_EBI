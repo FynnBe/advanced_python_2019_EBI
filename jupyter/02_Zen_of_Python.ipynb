{
 "cells": [
  {
   "cell_type": "markdown",
   "metadata": {
    "slideshow": {
     "slide_type": "slide"
    }
   },
   "source": [
    "# Advanced Python Course \n",
    "## PreDoc Course EBI 2019\n",
    "### by Christian Fufezan \n",
    "\n",
    "christian@fufezan.net\n",
    "\n",
    "https://fufezan.net\n",
    "\n",
    "\n",
    "<img src=\"https://octodex.github.com/images/mummytocat.gif\" width=\"200\" height=\"200\" style=\"float: right;\"/>"
   ]
  },
  {
   "cell_type": "markdown",
   "metadata": {
    "slideshow": {
     "slide_type": "slide"
    }
   },
   "source": [
    "# Zen of Python and general* coding philosophy \n",
    "### *disclaimer very fu centric :-P\n",
    "\n",
    "* Use [PEP8](https://www.python.org/dev/peps/pep-0008/) (Exceptions: NONE*!)\n",
    "* [any color you like - as long it is Black](https://github.com/psf/black)"
   ]
  },
  {
   "cell_type": "markdown",
   "metadata": {
    "slideshow": {
     "slide_type": "-"
    }
   },
   "source": [
    "* run pytest *BEFORE* committing\n",
    "* Tag your debug print statements with an acronyme, print( np.array( t ))) is hard to find\n",
    "* Use Python3.6+\n",
    "* Each function should do one thing and one thing only. (Yesterdays example - parsing fasta and counting amino acids ?)\n"
   ]
  },
  {
   "cell_type": "markdown",
   "metadata": {
    "slideshow": {
     "slide_type": "-"
    }
   },
   "source": [
    "* Never copy code\n",
    "\n",
    "* Be explicit, **for mo_stuff in the_big_thing:** ain't helping to read your code\n",
    "\n",
    "* Refrain from more than 5 indentation levels\n",
    "\n",
    "* Use meaningful variable names, even if they become long.\n",
    "\n",
    "* Use clearly distinct variable names!"
   ]
  },
  {
   "cell_type": "code",
   "execution_count": 4,
   "metadata": {
    "slideshow": {
     "slide_type": "subslide"
    }
   },
   "outputs": [
    {
     "name": "stdout",
     "output_type": "stream",
     "text": [
      "Yea!\n"
     ]
    }
   ],
   "source": [
    "stuff = {\"freiburg\" : {\"kitchens\": [1, 2, 3, 4], \"offices\": [3, 4, 5, 6]},\"heidelberg\": {\n",
    "    \"kitchens\": [1, 2, 3, 4], \"offices\": [33, 7, 5, 8]},\n",
    "         \"muenster\": {\"kitchens\": [1, 2, 3, 4],\"offices\": [2, 4, 5, 5]}}\n",
    "theotherstuff = [\"offices\"]\n",
    "theotherstvff = [7]\n",
    "for k in stuff:\n",
    "    for l, m in stuff[k].items():\n",
    "        if l in theotherstuff:\n",
    "            for n in m:\n",
    "                if n in theotherstvff:\n",
    "                    print(\"Yea!\")"
   ]
  },
  {
   "cell_type": "code",
   "execution_count": 5,
   "metadata": {
    "slideshow": {
     "slide_type": "subslide"
    }
   },
   "outputs": [
    {
     "name": "stdout",
     "output_type": "stream",
     "text": [
      "Yea!\n"
     ]
    }
   ],
   "source": [
    "cities = {\n",
    "    \"freiburg\" : {\n",
    "        \"kitchens\": [1, 2, 3, 4], \n",
    "        \"offices\": [3, 4, 5, 6]\n",
    "    },\n",
    "    \"heidelberg\": {\n",
    "        \"kitchens\": [1, 2, 3, 4], \n",
    "        \"offices\": [33, 7, 5, 8]\n",
    "    },\n",
    "    \n",
    "    \"muenster\": {\n",
    "        \"kitchens\": [1, 2, 3, 4], \n",
    "        \"offices\": [2, 4, 5, 5]\n",
    "    }\n",
    "}\n",
    "considered_rooms = [\"offices\"]\n",
    "number_of_rooms_to_identify = [7]\n",
    "\n",
    "for city in cities.keys():\n",
    "    for room_type, room_numbers in cities[city].items():\n",
    "        if room_type in considered_rooms:\n",
    "            for observed_room_number in room_numbers:\n",
    "                if observed_room_number in number_of_rooms_to_identify:\n",
    "                    print(\"Yea!\")"
   ]
  },
  {
   "cell_type": "markdown",
   "metadata": {
    "slideshow": {
     "slide_type": "slide"
    }
   },
   "source": [
    "* Be transparent and simple - nothing happens under the hood\n",
    "\n",
    "* Function names should start with a verb\n",
    "\n",
    "* Functions should have one return call only\n",
    "\n",
    "* list or dict comprehensions are great but refrain from incorporating complex logic or even nested structures!"
   ]
  },
  {
   "cell_type": "code",
   "execution_count": null,
   "metadata": {
    "slideshow": {
     "slide_type": "subslide"
    }
   },
   "outputs": [],
   "source": [
    "[ f\"{x:0>4.1f}\" for x in range(3, 30, 3)]"
   ]
  },
  {
   "cell_type": "code",
   "execution_count": null,
   "metadata": {
    "scrolled": true
   },
   "outputs": [],
   "source": [
    "conditions_met = [ f\"{x:0>4.1f}%{y} == 0!\" for x in range(3, 30, 3) for y in range(2, 4) if x%y == 0]\n",
    "display(conditions_met)"
   ]
  },
  {
   "cell_type": "code",
   "execution_count": null,
   "metadata": {
    "scrolled": true
   },
   "outputs": [],
   "source": [
    "conditions_met = []\n",
    "for x in range(3, 30, 3):\n",
    "    for y in range(2, 4):\n",
    "        if x%y == 0:\n",
    "            conditions_met.append(f\"{x:0>4.1f}%{y} == 0!\")\n",
    "display(conditions_met)"
   ]
  },
  {
   "cell_type": "code",
   "execution_count": null,
   "metadata": {
    "slideshow": {
     "slide_type": "subslide"
    }
   },
   "outputs": [],
   "source": [
    "# dict comprehensions\n",
    "import random\n",
    "cities = ['heidelberg', 'freiburg', 'münster']\n",
    "{ \n",
    "    city: {\n",
    "        \"kitchens\": random.choices(range(1,11), k=4), \n",
    "        \"offices\": random.choices(range(1,11), k=4)\n",
    "    } \n",
    "    for city in cities\n",
    "}"
   ]
  },
  {
   "cell_type": "markdown",
   "metadata": {
    "slideshow": {
     "slide_type": "slide"
    }
   },
   "source": [
    "# The Zen of Python"
   ]
  },
  {
   "cell_type": "code",
   "execution_count": null,
   "metadata": {
    "slideshow": {
     "slide_type": "slide"
    }
   },
   "outputs": [],
   "source": [
    "import this"
   ]
  }
 ],
 "metadata": {
  "celltoolbar": "Slideshow",
  "kernelspec": {
   "display_name": "Python 3",
   "language": "python",
   "name": "python3"
  },
  "language_info": {
   "codemirror_mode": {
    "name": "ipython",
    "version": 3
   },
   "file_extension": ".py",
   "mimetype": "text/x-python",
   "name": "python",
   "nbconvert_exporter": "python",
   "pygments_lexer": "ipython3",
   "version": "3.7.5"
  }
 },
 "nbformat": 4,
 "nbformat_minor": 2
}
